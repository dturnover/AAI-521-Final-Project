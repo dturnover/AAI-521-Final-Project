{
 "cells": [
  {
   "cell_type": "code",
   "execution_count": 36,
   "id": "64b02b5b",
   "metadata": {},
   "outputs": [],
   "source": [
    "import pandas as pd\n",
    "import numpy as np\n",
    "import matplotlib.pyplot as plt\n",
    "import glob\n",
    "import re \n",
    "import keras\n",
    "from sklearn.preprocessing import OneHotEncoder\n",
    "\n",
    "from PIL import Image\n",
    "import cv2\n",
    "\n",
    "import tensorflow as tf\n",
    "import tensorflow_addons as tfa\n",
    "from tensorflow.keras.layers import MaxPooling2D\n",
    "from keras.models import Sequential\n",
    "from keras.layers import Conv2D, BatchNormalization, Dense, Dropout, Flatten, Activation\n",
    "from keras import optimizers\n",
    "from tensorflow.keras.optimizers import schedules\n",
    "from keras.preprocessing.image import ImageDataGenerator"
   ]
  },
  {
   "cell_type": "code",
   "execution_count": 2,
   "id": "6ec412a2",
   "metadata": {},
   "outputs": [],
   "source": [
    "train_filenames = []\n",
    "test_filenames = []\n",
    "\n",
    "for filename in glob.iglob('train/*/*'):\n",
    "    train_filenames.append(filename)\n",
    "    \n",
    "for filename in glob.iglob('test/*/*'):\n",
    "    test_filenames.append(filename)"
   ]
  },
  {
   "cell_type": "code",
   "execution_count": 3,
   "id": "befee1f7",
   "metadata": {},
   "outputs": [],
   "source": [
    "# preprocessing steps: \n",
    "# normalize values\n",
    "# convert to grayscale\n",
    "# create augmented data in an imagedatagenerator\n",
    "# \n",
    "# transfer learning perhaps\n",
    "# CNN with last layer being softmax"
   ]
  },
  {
   "cell_type": "code",
   "execution_count": 4,
   "id": "2023ad7b",
   "metadata": {},
   "outputs": [],
   "source": [
    "train_images = []\n",
    "train_labels = []\n",
    "\n",
    "test_images = []\n",
    "test_labels = []\n",
    "\n",
    "for filename in train_filenames:\n",
    "    image = cv2.imread(filename)\n",
    "    # gray = cv2.cvtColor(image, cv2.COLOR_RGB2GRAY)\n",
    "    # gray = gray / 255\n",
    "    # train_images.append(gray)\n",
    "    image = image / 255\n",
    "    train_images.append(image)\n",
    "        \n",
    "    label = re.search('(?<=\\\\\\)([a-z]+)(?=\\\\\\)', filename).group(0)\n",
    "    train_labels.append(label)\n",
    "    \n",
    "for filename in test_filenames:\n",
    "    image = cv2.imread(filename)\n",
    "    #gray = cv2.cvtColor(image, cv2.COLOR_RGB2GRAY)  \n",
    "    #gray = gray / 255\n",
    "    #test_images.append(gray)\n",
    "    image = image / 255\n",
    "    test_images.append(image)\n",
    "    \n",
    "    label = re.search('(?<=\\\\\\)([a-z]+)(?=\\\\\\)', filename).group(0)\n",
    "    test_labels.append(label)\n",
    "    \n",
    "train_images = np.array(train_images)\n",
    "test_images = np.array(test_images)"
   ]
  },
  {
   "cell_type": "code",
   "execution_count": 5,
   "id": "1f58a7b1",
   "metadata": {},
   "outputs": [],
   "source": [
    "num_classes = 7\n",
    "\n",
    "onehot_encoder = OneHotEncoder(sparse=False)\n",
    "\n",
    "train_labels = onehot_encoder.fit_transform(np.array(train_labels).reshape(-1, 1))\n",
    "test_labels = onehot_encoder.fit_transform(np.array(test_labels).reshape(-1, 1))"
   ]
  },
  {
   "cell_type": "markdown",
   "id": "aa2a5c52",
   "metadata": {},
   "source": [
    "### Randomly shuffle the train and test images and simultaneously shuffle the respective labels in unison"
   ]
  },
  {
   "cell_type": "code",
   "execution_count": 6,
   "id": "61274db3",
   "metadata": {},
   "outputs": [],
   "source": [
    "p1 = np.random.permutation(len(train_images))\n",
    "train_images = train_images[p1]\n",
    "train_labels = train_labels[p1]\n",
    "\n",
    "p2 = np.random.permutation(len(test_images))\n",
    "test_images = test_images[p2]\n",
    "test_labels = test_labels[p2]"
   ]
  },
  {
   "cell_type": "code",
   "execution_count": 7,
   "id": "271d2796",
   "metadata": {},
   "outputs": [],
   "source": [
    "#cv2.imshow('img', train_images[0])\n",
    "\n",
    "#cv2.waitKey(0)\n",
    "#cv2.destroyAllWindows()"
   ]
  },
  {
   "cell_type": "markdown",
   "id": "ef1caeb5",
   "metadata": {},
   "source": [
    "model = Sequential()\n",
    "\n",
    "model.add(Conv2D(64, kernel_size=5, activation='relu', input_shape=(48, 48, 1)))\n",
    "model.add(Conv2D(64, kernel_size=5, activation='relu'))\n",
    "model.add(MaxPooling2D(2, 2))\n",
    "\n",
    "model.add(Conv2D(32, kernel_size=3, activation='relu'))\n",
    "model.add(Conv2D(32, kernel_size=3, activation='relu'))\n",
    "model.add(MaxPooling2D(2, 2))\n",
    "\n",
    "model.add(Conv2D(32, kernel_size=3, activation='relu'))\n",
    "model.add(Conv2D(32, kernel_size=3, activation='relu'))\n",
    "model.add(MaxPooling2D(2, 2))\n",
    "\n",
    "model.add(Flatten())\n",
    "\n",
    "model.add(Dense(128, activation='relu'))\n",
    "model.add(Dense(128, activation='relu'))\n",
    "model.add(Dropout(0.3))\n",
    "\n",
    "model.add(Dense(32, activation='relu'))\n",
    "model.add(Dense(32, activation='relu'))\n",
    "model.add(Dropout(0.3))\n",
    "\n",
    "model.add(Dense(num_classes, activation='relu'))\n",
    "model.add(Dense(num_classes, activation='softmax'))\n",
    "\n",
    "model.summary()"
   ]
  },
  {
   "cell_type": "markdown",
   "id": "2a245b18",
   "metadata": {},
   "source": [
    "model.compile(loss='categorical_crossentropy', optimizer='adam', metrics=['accuracy'])\n",
    "hist = model.fit(train_images, train_labels, validation_split=0.2, batch_size=128, epochs=100)"
   ]
  },
  {
   "cell_type": "markdown",
   "id": "c6e14e6b",
   "metadata": {},
   "source": [
    "scores = model.evaluate(test_images, test_labels, batch_size=128)\n",
    "print(\"Accuracy: %.2f%%\" % (scores[1]*100))"
   ]
  },
  {
   "cell_type": "markdown",
   "id": "2af1ad2b",
   "metadata": {},
   "source": [
    "f, ax = plt.subplots(1, 1, figsize=(5, 5))\n",
    "ax.plot(hist.history['accuracy'], ls='dashed')\n",
    "ax.set_xlabel(\"epochs\")\n",
    "ax.plot(hist.history['val_' + 'accuracy'])"
   ]
  },
  {
   "cell_type": "code",
   "execution_count": 8,
   "id": "a6976ddb",
   "metadata": {},
   "outputs": [],
   "source": [
    "### Attempting to improve accuracy below via two tries\n",
    "# Try 1 is augmenting dataset\n",
    "# Try 2 is using transfer learning"
   ]
  },
  {
   "cell_type": "markdown",
   "id": "01a86705",
   "metadata": {},
   "source": [
    "datagen = ImageDataGenerator(\n",
    "    shear_range=0.2,\n",
    "    zoom_range=0.2,\n",
    "    horizontal_flip=True,\n",
    "    validation_split=0.2)\n",
    "\n",
    "it_train = datagen.flow(train_images, train_labels, batch_size=64, subset='training')\n",
    "it_val = datagen.flow(train_images, train_labels, batch_size=16, subset='validation')"
   ]
  },
  {
   "cell_type": "code",
   "execution_count": 77,
   "id": "f039e8c6",
   "metadata": {},
   "outputs": [
    {
     "name": "stdout",
     "output_type": "stream",
     "text": [
      "Model: \"sequential_10\"\n",
      "_________________________________________________________________\n",
      " Layer (type)                Output Shape              Param #   \n",
      "=================================================================\n",
      " vgg19 (Functional)          (None, 1, 1, 512)         20024384  \n",
      "                                                                 \n",
      " flatten_10 (Flatten)        (None, 512)               0         \n",
      "                                                                 \n",
      " dense_30 (Dense)            (None, 512)               262656    \n",
      "                                                                 \n",
      " dropout_20 (Dropout)        (None, 512)               0         \n",
      "                                                                 \n",
      " dense_31 (Dense)            (None, 128)               65664     \n",
      "                                                                 \n",
      " dropout_21 (Dropout)        (None, 128)               0         \n",
      "                                                                 \n",
      " dense_32 (Dense)            (None, 7)                 903       \n",
      "                                                                 \n",
      "=================================================================\n",
      "Total params: 20,353,607\n",
      "Trainable params: 20,353,607\n",
      "Non-trainable params: 0\n",
      "_________________________________________________________________\n"
     ]
    }
   ],
   "source": [
    "from keras.applications.vgg19 import VGG19\n",
    "\n",
    "vgg_model = VGG19(include_top=False, input_shape=[48, 48, 3])\n",
    "#vgg_model.trainable = False\n",
    "\n",
    "model = Sequential([\n",
    "    vgg_model,\n",
    "    Flatten(),\n",
    "    Dense(512, activation='relu'),\n",
    "    Dropout(0.5),\n",
    "    Dense(128, activation='relu'),\n",
    "    Dropout(0.5),\n",
    "    \n",
    "    Dense(num_classes, activation='softmax')\n",
    "])\n",
    "\n",
    "model.summary()"
   ]
  },
  {
   "cell_type": "code",
   "execution_count": 78,
   "id": "fb306eae",
   "metadata": {},
   "outputs": [],
   "source": [
    "lr_schedule = schedules.ExponentialDecay(\n",
    "    initial_learning_rate=0.001,\n",
    "    decay_steps=10000,\n",
    "    staircase=True,\n",
    "    decay_rate=0.1)"
   ]
  },
  {
   "cell_type": "code",
   "execution_count": null,
   "id": "1e1b2077",
   "metadata": {},
   "outputs": [
    {
     "name": "stdout",
     "output_type": "stream",
     "text": [
      "Epoch 1/10\n",
      "180/180 [==============================] - 2618s 15s/step - loss: 0.1183 - accuracy: 0.9673 - val_loss: 2.3866 - val_accuracy: 0.6266\n",
      "Epoch 2/10\n",
      "180/180 [==============================] - 1357s 8s/step - loss: 0.0922 - accuracy: 0.9742 - val_loss: 2.4773 - val_accuracy: 0.6308\n",
      "Epoch 3/10\n",
      "180/180 [==============================] - 1330s 7s/step - loss: 0.0848 - accuracy: 0.9761 - val_loss: 2.4052 - val_accuracy: 0.6294\n",
      "Epoch 4/10\n",
      "180/180 [==============================] - 1323s 7s/step - loss: 0.0758 - accuracy: 0.9787 - val_loss: 2.7297 - val_accuracy: 0.6249\n",
      "Epoch 5/10\n",
      "180/180 [==============================] - 1325s 7s/step - loss: 0.0726 - accuracy: 0.9808 - val_loss: 2.5897 - val_accuracy: 0.6224\n",
      "Epoch 6/10\n",
      " 80/180 [============>.................] - ETA: 11:47 - loss: 0.0659 - accuracy: 0.9826"
     ]
    }
   ],
   "source": [
    "#opt = optimizers.Adam(learning_rate=0.0001)\n",
    "opt = optimizers.RMSprop(learning_rate=0.0001, decay=0.0001)\n",
    "\n",
    "model.compile(optimizer=opt, loss='categorical_crossentropy', metrics=['accuracy'])\n",
    "hist = model.fit(train_images, train_labels, validation_split=0.2, batch_size=128, epochs=10)"
   ]
  },
  {
   "cell_type": "code",
   "execution_count": 81,
   "id": "fdba0525",
   "metadata": {},
   "outputs": [
    {
     "name": "stdout",
     "output_type": "stream",
     "text": [
      "57/57 [==============================] - 101s 2s/step - loss: 2.0332 - accuracy: 0.6170\n",
      "Accuracy: 61.70%\n"
     ]
    }
   ],
   "source": [
    "scores = model.evaluate(test_images, test_labels, batch_size=128)\n",
    "print(\"Accuracy: %.2f%%\" % (scores[1]*100))"
   ]
  },
  {
   "cell_type": "code",
   "execution_count": 82,
   "id": "2e0ba793",
   "metadata": {
    "scrolled": true
   },
   "outputs": [
    {
     "data": {
      "text/plain": [
       "[<matplotlib.lines.Line2D at 0x11ad92a56d0>]"
      ]
     },
     "execution_count": 82,
     "metadata": {},
     "output_type": "execute_result"
    },
    {
     "data": {
      "image/png": "[encoded data removed]",
      "text/plain": [
       "<Figure size 360x360 with 1 Axes>"
      ]
     },
     "metadata": {
      "needs_background": "light"
     },
     "output_type": "display_data"
    }
   ],
   "source": [
    "f, ax = plt.subplots(1, 1, figsize=(5, 5))\n",
    "ax.plot(hist.history['accuracy'], ls='dashed')\n",
    "ax.set_xlabel(\"epochs\")\n",
    "ax.plot(hist.history['val_' + 'accuracy'])"
   ]
  },
  {
   "cell_type": "code",
   "execution_count": null,
   "id": "f954acbc",
   "metadata": {},
   "outputs": [],
   "source": [
    "test_img_fn = \"\"\n",
    "\n",
    "test_image = cv2.imread(test_img_fn)\n",
    "test_image = test_image.reshape(48, 48, 3)\n",
    "test_image = test_image / 255\n",
    "\n",
    "model.predict(test_image)"
   ]
  }
 ],
 "metadata": {
  "kernelspec": {
   "display_name": "Python 3 (ipykernel)",
   "language": "python",
   "name": "python3"
  },
  "language_info": {
   "codemirror_mode": {
    "name": "ipython",
    "version": 3
   },
   "file_extension": ".py",
   "mimetype": "text/x-python",
   "name": "python",
   "nbconvert_exporter": "python",
   "pygments_lexer": "ipython3",
   "version": "3.9.12"
  }
 },
 "nbformat": 4,
 "nbformat_minor": 5
}
