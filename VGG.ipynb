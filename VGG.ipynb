{
 "cells": [
  {
   "cell_type": "code",
   "execution_count": 1,
   "id": "64b02b5b",
   "metadata": {},
   "outputs": [],
   "source": [
    "import pandas as pd\n",
    "import numpy as np\n",
    "import matplotlib.pyplot as plt\n",
    "import glob\n",
    "import re \n",
    "import keras\n",
    "from sklearn.preprocessing import OneHotEncoder\n",
    "\n",
    "from PIL import Image\n",
    "import cv2\n",
    "\n",
    "import tensorflow as tf\n",
    "import tensorflow_addons as tfa\n",
    "from tensorflow.keras.layers import MaxPooling2D\n",
    "from keras.models import Sequential\n",
    "from keras.layers import Conv2D, BatchNormalization, Dense, Dropout, Flatten, Activation\n",
    "from keras import optimizers\n",
    "from tensorflow.keras.optimizers import schedules\n",
    "from keras.preprocessing.image import ImageDataGenerator"
   ]
  },
  {
   "cell_type": "code",
   "execution_count": 2,
   "id": "6ec412a2",
   "metadata": {},
   "outputs": [],
   "source": [
    "train_filenames = []\n",
    "test_filenames = []\n",
    "\n",
    "for filename in glob.iglob('train/*/*'):\n",
    "    train_filenames.append(filename)\n",
    "    \n",
    "for filename in glob.iglob('test/*/*'):\n",
    "    test_filenames.append(filename)"
   ]
  },
  {
   "cell_type": "code",
   "execution_count": 3,
   "id": "2023ad7b",
   "metadata": {},
   "outputs": [],
   "source": [
    "train_images = []\n",
    "train_labels = []\n",
    "\n",
    "test_images = []\n",
    "test_labels = []\n",
    "\n",
    "for filename in train_filenames:\n",
    "    image = cv2.imread(filename)\n",
    "    image = image / 255\n",
    "    train_images.append(image)\n",
    "        \n",
    "    label = re.search('(?<=\\\\\\)([a-z]+)(?=\\\\\\)', filename).group(0)\n",
    "    train_labels.append(label)\n",
    "    \n",
    "for filename in test_filenames:\n",
    "    image = cv2.imread(filename)\n",
    "    image = image / 255\n",
    "    test_images.append(image)\n",
    "    \n",
    "    label = re.search('(?<=\\\\\\)([a-z]+)(?=\\\\\\)', filename).group(0)\n",
    "    test_labels.append(label)\n",
    "    \n",
    "train_images = np.array(train_images)\n",
    "test_images = np.array(test_images)"
   ]
  },
  {
   "cell_type": "code",
   "execution_count": 4,
   "id": "1f58a7b1",
   "metadata": {},
   "outputs": [],
   "source": [
    "num_classes = 7\n",
    "\n",
    "onehot_encoder = OneHotEncoder(sparse=False)\n",
    "\n",
    "train_labels = onehot_encoder.fit_transform(np.array(train_labels).reshape(-1, 1))\n",
    "test_labels = onehot_encoder.fit_transform(np.array(test_labels).reshape(-1, 1))"
   ]
  },
  {
   "cell_type": "code",
   "execution_count": 5,
   "id": "61274db3",
   "metadata": {},
   "outputs": [],
   "source": [
    "p1 = np.random.permutation(len(train_images))\n",
    "train_images = train_images[p1]\n",
    "train_labels = train_labels[p1]\n",
    "\n",
    "p2 = np.random.permutation(len(test_images))\n",
    "test_images = test_images[p2]\n",
    "test_labels = test_labels[p2]"
   ]
  },
  {
   "cell_type": "code",
   "execution_count": 6,
   "id": "f039e8c6",
   "metadata": {},
   "outputs": [
    {
     "name": "stdout",
     "output_type": "stream",
     "text": [
      "Model: \"sequential\"\n",
      "_________________________________________________________________\n",
      " Layer (type)                Output Shape              Param #   \n",
      "=================================================================\n",
      " vgg16 (Functional)          (None, 1, 1, 512)         14714688  \n",
      "                                                                 \n",
      " flatten (Flatten)           (None, 512)               0         \n",
      "                                                                 \n",
      " dense (Dense)               (None, 512)               262656    \n",
      "                                                                 \n",
      " dropout (Dropout)           (None, 512)               0         \n",
      "                                                                 \n",
      " dense_1 (Dense)             (None, 128)               65664     \n",
      "                                                                 \n",
      " dropout_1 (Dropout)         (None, 128)               0         \n",
      "                                                                 \n",
      " dense_2 (Dense)             (None, 7)                 903       \n",
      "                                                                 \n",
      "=================================================================\n",
      "Total params: 15,043,911\n",
      "Trainable params: 15,043,911\n",
      "Non-trainable params: 0\n",
      "_________________________________________________________________\n"
     ]
    }
   ],
   "source": [
    "from keras.applications.vgg16 import VGG16\n",
    "\n",
    "vgg_model = VGG16(include_top=False, input_shape=[48, 48, 3])\n",
    "\n",
    "model = Sequential([\n",
    "    vgg_model,\n",
    "    Flatten(),\n",
    "    Dense(512, activation='relu'),\n",
    "    Dropout(0.5),\n",
    "    Dense(128, activation='relu'),\n",
    "    Dropout(0.5),\n",
    "    \n",
    "    Dense(num_classes, activation='softmax')\n",
    "])\n",
    "\n",
    "model.summary()"
   ]
  },
  {
   "cell_type": "code",
   "execution_count": 7,
   "id": "1e1b2077",
   "metadata": {},
   "outputs": [
    {
     "name": "stdout",
     "output_type": "stream",
     "text": [
      "Epoch 1/5\n",
      "180/180 [==============================] - 567s 3s/step - loss: 1.8158 - accuracy: 0.2555 - val_loss: 1.5643 - val_accuracy: 0.3673\n",
      "Epoch 2/5\n",
      "180/180 [==============================] - 575s 3s/step - loss: 1.5228 - accuracy: 0.4029 - val_loss: 1.4017 - val_accuracy: 0.4810\n",
      "Epoch 3/5\n",
      "180/180 [==============================] - 574s 3s/step - loss: 1.3516 - accuracy: 0.4836 - val_loss: 1.2242 - val_accuracy: 0.5338\n",
      "Epoch 4/5\n",
      "180/180 [==============================] - 575s 3s/step - loss: 1.2290 - accuracy: 0.5432 - val_loss: 1.1375 - val_accuracy: 0.5815\n",
      "Epoch 5/5\n",
      "180/180 [==============================] - 571s 3s/step - loss: 1.1265 - accuracy: 0.5891 - val_loss: 1.1509 - val_accuracy: 0.5636\n"
     ]
    }
   ],
   "source": [
    "opt = optimizers.RMSprop(learning_rate=0.0001, decay=0.0001)\n",
    "\n",
    "model.compile(optimizer=opt, loss='categorical_crossentropy', metrics=['accuracy'])\n",
    "hist = model.fit(train_images, train_labels, validation_split=0.2, batch_size=128, epochs=5)"
   ]
  },
  {
   "cell_type": "code",
   "execution_count": 8,
   "id": "fdba0525",
   "metadata": {},
   "outputs": [
    {
     "name": "stdout",
     "output_type": "stream",
     "text": [
      "57/57 [==============================] - 18s 317ms/step - loss: 1.1534 - accuracy: 0.5619\n",
      "Accuracy: 56.19%\n"
     ]
    }
   ],
   "source": [
    "scores = model.evaluate(test_images, test_labels, batch_size=128)\n",
    "print(\"Accuracy: %.2f%%\" % (scores[1]*100))"
   ]
  },
  {
   "cell_type": "code",
   "execution_count": 9,
   "id": "2e0ba793",
   "metadata": {
    "scrolled": true
   },
   "outputs": [
    {
     "data": {
      "text/plain": [
       "<matplotlib.legend.Legend at 0x123c76a1a60>"
      ]
     },
     "execution_count": 9,
     "metadata": {},
     "output_type": "execute_result"
    },
    {
     "data": {
      "image/png": "[encoded data removed]",
      "text/plain": [
       "<Figure size 360x360 with 1 Axes>"
      ]
     },
     "metadata": {
      "needs_background": "light"
     },
     "output_type": "display_data"
    }
   ],
   "source": [
    "f, ax = plt.subplots(1, 1, figsize=(5, 5))\n",
    "ax.plot(hist.history['accuracy'], ls='dashed', label='train_accuracy')\n",
    "ax.set_xlabel(\"epochs\")\n",
    "ax.plot(hist.history['val_' + 'accuracy'], label='val_accuracy')\n",
    "ax.legend()"
   ]
  },
  {
   "cell_type": "code",
   "execution_count": 10,
   "id": "56de7da8",
   "metadata": {},
   "outputs": [
    {
     "data": {
      "text/plain": [
       "<matplotlib.legend.Legend at 0x123c76d7d60>"
      ]
     },
     "execution_count": 10,
     "metadata": {},
     "output_type": "execute_result"
    },
    {
     "data": {
      "image/png": "[encoded data removed]",
      "text/plain": [
       "<Figure size 360x360 with 1 Axes>"
      ]
     },
     "metadata": {
      "needs_background": "light"
     },
     "output_type": "display_data"
    }
   ],
   "source": [
    "f, ax = plt.subplots(1, 1, figsize=(5, 5))\n",
    "ax.plot(hist.history['loss'], ls='dashed', label='train_loss')\n",
    "ax.set_xlabel(\"epochs\")\n",
    "ax.plot(hist.history['val_' + 'loss'], label='val_loss')\n",
    "ax.legend()"
   ]
  },
  {
   "cell_type": "code",
   "execution_count": 11,
   "id": "f954acbc",
   "metadata": {},
   "outputs": [
    {
     "name": "stdout",
     "output_type": "stream",
     "text": [
      "1/1 [==============================] - 0s 158ms/step\n"
     ]
    }
   ],
   "source": [
    "test_img_fn1 = \"t1.jpg\"\n",
    "test_img_fn2 = \"t2.jpg\"\n",
    "\n",
    "images = []\n",
    "\n",
    "test_image1 = cv2.imread(test_img_fn1)\n",
    "test_image1 = cv2.resize(test_image1, (48, 48))\n",
    "test_image1 = test_image1 / 255\n",
    "\n",
    "test_image2 = cv2.imread(test_img_fn2)\n",
    "test_image2 = cv2.resize(test_image2, (48, 48))\n",
    "test_image2 = test_image2 / 255\n",
    "\n",
    "images.append(test_image1)\n",
    "images.append(test_image2)\n",
    "\n",
    "\n",
    "images = np.array(images)\n",
    "\n",
    "preds = model.predict(images)"
   ]
  },
  {
   "cell_type": "code",
   "execution_count": 25,
   "id": "173af712",
   "metadata": {},
   "outputs": [
    {
     "data": {
      "text/plain": [
       "<matplotlib.image.AxesImage at 0x123c7edd550>"
      ]
     },
     "execution_count": 25,
     "metadata": {},
     "output_type": "execute_result"
    },
    {
     "data": {
      "image/png": "[encoded data removed]",
      "text/plain": [
       "<Figure size 432x288 with 1 Axes>"
      ]
     },
     "metadata": {
      "needs_background": "light"
     },
     "output_type": "display_data"
    }
   ],
   "source": [
    "plt.imshow(test_image1)"
   ]
  },
  {
   "cell_type": "code",
   "execution_count": 22,
   "id": "9fd620ee",
   "metadata": {},
   "outputs": [
    {
     "data": {
      "text/plain": [
       "'x0_fearful'"
      ]
     },
     "execution_count": 22,
     "metadata": {},
     "output_type": "execute_result"
    }
   ],
   "source": [
    "classes = onehot_encoder.get_feature_names_out()\n",
    "\n",
    "classes[np.argmax(preds[0])]"
   ]
  },
  {
   "cell_type": "code",
   "execution_count": 26,
   "id": "51cfcd2a",
   "metadata": {},
   "outputs": [
    {
     "data": {
      "text/plain": [
       "<matplotlib.image.AxesImage at 0x123c9b1e310>"
      ]
     },
     "execution_count": 26,
     "metadata": {},
     "output_type": "execute_result"
    },
    {
     "data": {
      "image/png": "[encoded data removed]",
      "text/plain": [
       "<Figure size 432x288 with 1 Axes>"
      ]
     },
     "metadata": {
      "needs_background": "light"
     },
     "output_type": "display_data"
    }
   ],
   "source": [
    "plt.imshow(test_image2)"
   ]
  },
  {
   "cell_type": "code",
   "execution_count": 20,
   "id": "a3a207df",
   "metadata": {},
   "outputs": [
    {
     "data": {
      "text/plain": [
       "'x0_angry'"
      ]
     },
     "execution_count": 20,
     "metadata": {},
     "output_type": "execute_result"
    }
   ],
   "source": [
    "classes[np.argmax(preds[1])]"
   ]
  },
  {
   "cell_type": "code",
   "execution_count": null,
   "id": "00a2fc14",
   "metadata": {},
   "outputs": [],
   "source": []
  }
 ],
 "metadata": {
  "kernelspec": {
   "display_name": "Python 3 (ipykernel)",
   "language": "python",
   "name": "python3"
  },
  "language_info": {
   "codemirror_mode": {
    "name": "ipython",
    "version": 3
   },
   "file_extension": ".py",
   "mimetype": "text/x-python",
   "name": "python",
   "nbconvert_exporter": "python",
   "pygments_lexer": "ipython3",
   "version": "3.9.12"
  }
 },
 "nbformat": 4,
 "nbformat_minor": 5
}
