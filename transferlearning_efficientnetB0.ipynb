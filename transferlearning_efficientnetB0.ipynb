{
  "cells": [
    {
      "cell_type": "markdown",
      "source": [
        "#Upload dataset from Kaggle"
      ],
      "metadata": {
        "id": "K1trW91b_UQP"
      },
      "id": "K1trW91b_UQP"
    },
    {
      "cell_type": "code",
      "source": [
        "! pip install kaggle"
      ],
      "metadata": {
        "id": "r137fkxZ_T_h",
        "outputId": "40161cc7-2cd6-4330-aa83-0abf9f716cb8",
        "colab": {
          "base_uri": "https://localhost:8080/"
        }
      },
      "id": "r137fkxZ_T_h",
      "execution_count": 1,
      "outputs": [
        {
          "output_type": "stream",
          "name": "stdout",
          "text": [
            "Looking in indexes: https://pypi.org/simple, https://us-python.pkg.dev/colab-wheels/public/simple/\n",
            "Requirement already satisfied: kaggle in /usr/local/lib/python3.8/dist-packages (1.5.12)\n",
            "Requirement already satisfied: tqdm in /usr/local/lib/python3.8/dist-packages (from kaggle) (4.64.1)\n",
            "Requirement already satisfied: certifi in /usr/local/lib/python3.8/dist-packages (from kaggle) (2022.9.24)\n",
            "Requirement already satisfied: six>=1.10 in /usr/local/lib/python3.8/dist-packages (from kaggle) (1.15.0)\n",
            "Requirement already satisfied: requests in /usr/local/lib/python3.8/dist-packages (from kaggle) (2.23.0)\n",
            "Requirement already satisfied: python-slugify in /usr/local/lib/python3.8/dist-packages (from kaggle) (7.0.0)\n",
            "Requirement already satisfied: python-dateutil in /usr/local/lib/python3.8/dist-packages (from kaggle) (2.8.2)\n",
            "Requirement already satisfied: urllib3 in /usr/local/lib/python3.8/dist-packages (from kaggle) (1.24.3)\n",
            "Requirement already satisfied: text-unidecode>=1.3 in /usr/local/lib/python3.8/dist-packages (from python-slugify->kaggle) (1.3)\n",
            "Requirement already satisfied: idna<3,>=2.5 in /usr/local/lib/python3.8/dist-packages (from requests->kaggle) (2.10)\n",
            "Requirement already satisfied: chardet<4,>=3.0.2 in /usr/local/lib/python3.8/dist-packages (from requests->kaggle) (3.0.4)\n"
          ]
        }
      ]
    },
    {
      "cell_type": "code",
      "source": [
        "#For Colab\n",
        "'''''\n",
        "To obtain the Kaggle.json file:\n",
        "\n",
        "1. Go to Kaggle, to your account, Scroll to API section and Click Expire API Token to remove previous tokens\n",
        "\n",
        "2. Click on Create New API Token - It will download kaggle.json file on your machine.\n",
        "\n",
        "3. Go to your Google Colab project file and run the following commands:\n",
        "\n",
        "More info: https://www.kaggle.com/general/74235\n",
        "\n",
        "'''''\n",
        "from google.colab import files\n",
        "\n",
        "files.upload()"
      ],
      "metadata": {
        "id": "WDefAjOU_vBs",
        "outputId": "a1525269-d844-4606-b344-f5b6d8cd15e5",
        "colab": {
          "base_uri": "https://localhost:8080/",
          "height": 108
        }
      },
      "id": "WDefAjOU_vBs",
      "execution_count": 2,
      "outputs": [
        {
          "output_type": "display_data",
          "data": {
            "text/plain": [
              "<IPython.core.display.HTML object>"
            ],
            "text/html": [
              "\n",
              "     <input type=\"file\" id=\"files-f88bd910-1245-46ac-85e5-b91809fa07e1\" name=\"files[]\" multiple disabled\n",
              "        style=\"border:none\" />\n",
              "     <output id=\"result-f88bd910-1245-46ac-85e5-b91809fa07e1\">\n",
              "      Upload widget is only available when the cell has been executed in the\n",
              "      current browser session. Please rerun this cell to enable.\n",
              "      </output>\n",
              "      <script>// Copyright 2017 Google LLC\n",
              "//\n",
              "// Licensed under the Apache License, Version 2.0 (the \"License\");\n",
              "// you may not use this file except in compliance with the License.\n",
              "// You may obtain a copy of the License at\n",
              "//\n",
              "//      http://www.apache.org/licenses/LICENSE-2.0\n",
              "//\n",
              "// Unless required by applicable law or agreed to in writing, software\n",
              "// distributed under the License is distributed on an \"AS IS\" BASIS,\n",
              "// WITHOUT WARRANTIES OR CONDITIONS OF ANY KIND, either express or implied.\n",
              "// See the License for the specific language governing permissions and\n",
              "// limitations under the License.\n",
              "\n",
              "/**\n",
              " * @fileoverview Helpers for google.colab Python module.\n",
              " */\n",
              "(function(scope) {\n",
              "function span(text, styleAttributes = {}) {\n",
              "  const element = document.createElement('span');\n",
              "  element.textContent = text;\n",
              "  for (const key of Object.keys(styleAttributes)) {\n",
              "    element.style[key] = styleAttributes[key];\n",
              "  }\n",
              "  return element;\n",
              "}\n",
              "\n",
              "// Max number of bytes which will be uploaded at a time.\n",
              "const MAX_PAYLOAD_SIZE = 100 * 1024;\n",
              "\n",
              "function _uploadFiles(inputId, outputId) {\n",
              "  const steps = uploadFilesStep(inputId, outputId);\n",
              "  const outputElement = document.getElementById(outputId);\n",
              "  // Cache steps on the outputElement to make it available for the next call\n",
              "  // to uploadFilesContinue from Python.\n",
              "  outputElement.steps = steps;\n",
              "\n",
              "  return _uploadFilesContinue(outputId);\n",
              "}\n",
              "\n",
              "// This is roughly an async generator (not supported in the browser yet),\n",
              "// where there are multiple asynchronous steps and the Python side is going\n",
              "// to poll for completion of each step.\n",
              "// This uses a Promise to block the python side on completion of each step,\n",
              "// then passes the result of the previous step as the input to the next step.\n",
              "function _uploadFilesContinue(outputId) {\n",
              "  const outputElement = document.getElementById(outputId);\n",
              "  const steps = outputElement.steps;\n",
              "\n",
              "  const next = steps.next(outputElement.lastPromiseValue);\n",
              "  return Promise.resolve(next.value.promise).then((value) => {\n",
              "    // Cache the last promise value to make it available to the next\n",
              "    // step of the generator.\n",
              "    outputElement.lastPromiseValue = value;\n",
              "    return next.value.response;\n",
              "  });\n",
              "}\n",
              "\n",
              "/**\n",
              " * Generator function which is called between each async step of the upload\n",
              " * process.\n",
              " * @param {string} inputId Element ID of the input file picker element.\n",
              " * @param {string} outputId Element ID of the output display.\n",
              " * @return {!Iterable<!Object>} Iterable of next steps.\n",
              " */\n",
              "function* uploadFilesStep(inputId, outputId) {\n",
              "  const inputElement = document.getElementById(inputId);\n",
              "  inputElement.disabled = false;\n",
              "\n",
              "  const outputElement = document.getElementById(outputId);\n",
              "  outputElement.innerHTML = '';\n",
              "\n",
              "  const pickedPromise = new Promise((resolve) => {\n",
              "    inputElement.addEventListener('change', (e) => {\n",
              "      resolve(e.target.files);\n",
              "    });\n",
              "  });\n",
              "\n",
              "  const cancel = document.createElement('button');\n",
              "  inputElement.parentElement.appendChild(cancel);\n",
              "  cancel.textContent = 'Cancel upload';\n",
              "  const cancelPromise = new Promise((resolve) => {\n",
              "    cancel.onclick = () => {\n",
              "      resolve(null);\n",
              "    };\n",
              "  });\n",
              "\n",
              "  // Wait for the user to pick the files.\n",
              "  const files = yield {\n",
              "    promise: Promise.race([pickedPromise, cancelPromise]),\n",
              "    response: {\n",
              "      action: 'starting',\n",
              "    }\n",
              "  };\n",
              "\n",
              "  cancel.remove();\n",
              "\n",
              "  // Disable the input element since further picks are not allowed.\n",
              "  inputElement.disabled = true;\n",
              "\n",
              "  if (!files) {\n",
              "    return {\n",
              "      response: {\n",
              "        action: 'complete',\n",
              "      }\n",
              "    };\n",
              "  }\n",
              "\n",
              "  for (const file of files) {\n",
              "    const li = document.createElement('li');\n",
              "    li.append(span(file.name, {fontWeight: 'bold'}));\n",
              "    li.append(span(\n",
              "        `(${file.type || 'n/a'}) - ${file.size} bytes, ` +\n",
              "        `last modified: ${\n",
              "            file.lastModifiedDate ? file.lastModifiedDate.toLocaleDateString() :\n",
              "                                    'n/a'} - `));\n",
              "    const percent = span('0% done');\n",
              "    li.appendChild(percent);\n",
              "\n",
              "    outputElement.appendChild(li);\n",
              "\n",
              "    const fileDataPromise = new Promise((resolve) => {\n",
              "      const reader = new FileReader();\n",
              "      reader.onload = (e) => {\n",
              "        resolve(e.target.result);\n",
              "      };\n",
              "      reader.readAsArrayBuffer(file);\n",
              "    });\n",
              "    // Wait for the data to be ready.\n",
              "    let fileData = yield {\n",
              "      promise: fileDataPromise,\n",
              "      response: {\n",
              "        action: 'continue',\n",
              "      }\n",
              "    };\n",
              "\n",
              "    // Use a chunked sending to avoid message size limits. See b/62115660.\n",
              "    let position = 0;\n",
              "    do {\n",
              "      const length = Math.min(fileData.byteLength - position, MAX_PAYLOAD_SIZE);\n",
              "      const chunk = new Uint8Array(fileData, position, length);\n",
              "      position += length;\n",
              "\n",
              "      const base64 = btoa(String.fromCharCode.apply(null, chunk));\n",
              "      yield {\n",
              "        response: {\n",
              "          action: 'append',\n",
              "          file: file.name,\n",
              "          data: base64,\n",
              "        },\n",
              "      };\n",
              "\n",
              "      let percentDone = fileData.byteLength === 0 ?\n",
              "          100 :\n",
              "          Math.round((position / fileData.byteLength) * 100);\n",
              "      percent.textContent = `${percentDone}% done`;\n",
              "\n",
              "    } while (position < fileData.byteLength);\n",
              "  }\n",
              "\n",
              "  // All done.\n",
              "  yield {\n",
              "    response: {\n",
              "      action: 'complete',\n",
              "    }\n",
              "  };\n",
              "}\n",
              "\n",
              "scope.google = scope.google || {};\n",
              "scope.google.colab = scope.google.colab || {};\n",
              "scope.google.colab._files = {\n",
              "  _uploadFiles,\n",
              "  _uploadFilesContinue,\n",
              "};\n",
              "})(self);\n",
              "</script> "
            ]
          },
          "metadata": {}
        },
        {
          "output_type": "stream",
          "name": "stdout",
          "text": [
            "Saving kaggle.json to kaggle.json\n"
          ]
        },
        {
          "output_type": "execute_result",
          "data": {
            "text/plain": [
              "{'kaggle.json': b'{\"username\":\"teamnassim\",\"key\":\"4e7ffea7e50af834abd675b9079bfe5a\"}'}"
            ]
          },
          "metadata": {},
          "execution_count": 2
        }
      ]
    },
    {
      "cell_type": "code",
      "source": [
        "import time\n",
        "\n",
        "time.sleep(10)\n",
        "\n",
        "! cp kaggle.json ~/.kaggle/\n",
        "\n",
        "\n",
        "! chmod 600 ~/.kaggle/kaggle.json\n",
        "\n",
        "! kaggle datasets download ananthu017/emotion-detection-fer\n",
        "# ! kaggle datasets download emotion-detection-fer #For Localhost\n"
      ],
      "metadata": {
        "id": "RRM-TZcvPYfV",
        "colab": {
          "base_uri": "https://localhost:8080/"
        },
        "outputId": "aebc22f2-5c50-4f48-bab8-cd44b457424f"
      },
      "id": "RRM-TZcvPYfV",
      "execution_count": 4,
      "outputs": [
        {
          "output_type": "stream",
          "name": "stdout",
          "text": [
            "Downloading emotion-detection-fer.zip to /content\n",
            " 98% 64.0M/65.2M [00:04<00:00, 24.0MB/s]\n",
            "100% 65.2M/65.2M [00:04<00:00, 16.2MB/s]\n"
          ]
        }
      ]
    },
    {
      "cell_type": "code",
      "source": [
        "!pip install torchmetrics torchinfo GPUtil"
      ],
      "metadata": {
        "id": "ociB2gFxBTo-",
        "colab": {
          "base_uri": "https://localhost:8080/"
        },
        "outputId": "0ba48313-b41f-42af-9611-59830750a0bc"
      },
      "id": "ociB2gFxBTo-",
      "execution_count": 5,
      "outputs": [
        {
          "output_type": "stream",
          "name": "stdout",
          "text": [
            "Looking in indexes: https://pypi.org/simple, https://us-python.pkg.dev/colab-wheels/public/simple/\n",
            "Collecting torchmetrics\n",
            "  Downloading torchmetrics-0.11.0-py3-none-any.whl (512 kB)\n",
            "\u001b[K     |████████████████████████████████| 512 kB 34.6 MB/s \n",
            "\u001b[?25hCollecting torchinfo\n",
            "  Downloading torchinfo-1.7.1-py3-none-any.whl (22 kB)\n",
            "Collecting GPUtil\n",
            "  Downloading GPUtil-1.4.0.tar.gz (5.5 kB)\n",
            "Requirement already satisfied: packaging in /usr/local/lib/python3.8/dist-packages (from torchmetrics) (21.3)\n",
            "Requirement already satisfied: torch>=1.8.1 in /usr/local/lib/python3.8/dist-packages (from torchmetrics) (1.13.0+cu116)\n",
            "Requirement already satisfied: numpy>=1.17.2 in /usr/local/lib/python3.8/dist-packages (from torchmetrics) (1.21.6)\n",
            "Requirement already satisfied: typing-extensions in /usr/local/lib/python3.8/dist-packages (from torchmetrics) (4.4.0)\n",
            "Requirement already satisfied: pyparsing!=3.0.5,>=2.0.2 in /usr/local/lib/python3.8/dist-packages (from packaging->torchmetrics) (3.0.9)\n",
            "Building wheels for collected packages: GPUtil\n",
            "  Building wheel for GPUtil (setup.py) ... \u001b[?25l\u001b[?25hdone\n",
            "  Created wheel for GPUtil: filename=GPUtil-1.4.0-py3-none-any.whl size=7409 sha256=63aabe1613fc9a6f48d25f41235417377d85ee6634d95ec6b1e0ae2a28efcb25\n",
            "  Stored in directory: /root/.cache/pip/wheels/ba/03/bb/7a97840eb54479b328672e15a536e49dc60da200fb21564d53\n",
            "Successfully built GPUtil\n",
            "Installing collected packages: torchmetrics, torchinfo, GPUtil\n",
            "Successfully installed GPUtil-1.4.0 torchinfo-1.7.1 torchmetrics-0.11.0\n"
          ]
        }
      ]
    },
    {
      "cell_type": "code",
      "source": [
        "import requests\n",
        "from zipfile import ZipFile\n",
        "from pathlib import Path\n",
        "\n",
        "import os\n",
        "import glob\n",
        "\n",
        "import random as random\n",
        "from PIL import Image\n",
        "\n",
        "import torch\n",
        "from torch import nn\n",
        "\n",
        "from torch.utils.data import DataLoader\n",
        "from torch.utils.data import Dataset\n",
        "\n",
        "import torchvision\n",
        "\n",
        "from torchvision import datasets\n",
        "from torchvision import transforms\n",
        "\n",
        "import torchmetrics\n",
        "import mlxtend\n",
        "\n",
        "import matplotlib.pyplot as plt\n",
        "\n",
        "from typing import Tuple\n",
        "from typing import Dict\n",
        "from typing import List\n",
        "from timeit import default_timer as timer\n",
        "from matplotlib import patches as mpatches\n",
        "\n",
        "from tqdm.auto import tqdm\n",
        "\n",
        "import gc\n",
        "\n",
        "from numba import cuda\n",
        "\n",
        "from GPUtil import showUtilization as gpu_usage\n",
        "\n",
        "\n",
        "from torchinfo import summary\n",
        "\n",
        "import shutil\n",
        "\n",
        "import numpy as np\n",
        "import pandas as pd\n",
        "\n",
        "from os import listdir                  \n",
        "from os.path import isfile, join"
      ],
      "metadata": {
        "id": "tJxxMmN_BO4j"
      },
      "id": "tJxxMmN_BO4j",
      "execution_count": 6,
      "outputs": []
    },
    {
      "cell_type": "code",
      "execution_count": 7,
      "id": "6ec412a2",
      "metadata": {
        "id": "6ec412a2",
        "colab": {
          "base_uri": "https://localhost:8080/"
        },
        "outputId": "726004cb-2c8c-48ee-d8bc-4c3f7f825489"
      },
      "outputs": [
        {
          "output_type": "stream",
          "name": "stdout",
          "text": [
            "Kaggle/CV/Emotions_detection/emotions_dataset doesn't exist, creating one...\n",
            "Extracting files...\n",
            "Extracting finished.\n"
          ]
        }
      ],
      "source": [
        "def extract_data(zipfile_path: Path, destination_path: Path) -> None:\n",
        "    '''Extracts zipfile'''\n",
        "    \n",
        "    if destination_path.is_dir():\n",
        "        print(f\"{destination_path} exists.\")\n",
        "    else:\n",
        "        print(f\"{destination_path} doesn't exist, creating one...\")\n",
        "        destination_path.mkdir(parents=True, exist_ok=True)\n",
        "\n",
        "    if not os.listdir(destination_path):\n",
        "        with ZipFile(zipfile_path, 'r') as zip:\n",
        "            print(\"Extracting files...\")\n",
        "            zip.extractall(destination_path)\n",
        "\n",
        "            print(\"Extracting finished.\")\n",
        "    else:\n",
        "        print(\"Data already extracted.\")\n",
        "    \n",
        "data_path = Path(\"Kaggle/CV/Emotions_detection\")\n",
        "# zipfile_path = \"/content/emotion-detection-fer.zip\"\n",
        "zipfile_path = \"emotion-detection-fer.zip\" #For Local use\n",
        "\n",
        "images_path = data_path / \"emotions_dataset\"\n",
        "\n",
        "extract_data(zipfile_path, images_path)"
      ]
    },
    {
      "cell_type": "code",
      "source": [
        "%matplotlib inline\n",
        "\n",
        "def print_random_image(images_path: list, seed=None) -> None:\n",
        "    \"\"\"Prints one random photo with details such as class, heigh, width\"\"\"\n",
        "    if seed:\n",
        "        random.seed(seed)\n",
        "\n",
        "    random_image_path = random.choice(images_path)\n",
        "    image_class = random_image_path.parent.stem\n",
        "    image = Image.open(random_image_path)\n",
        "    print(f\"Random image path: {random_image_path}\")\n",
        "    print(f\"Random image class: {image_class}\")\n",
        "    print(f\"Image height: {image.height}\")\n",
        "    print(f\"Image width: {image.width}\")\n",
        "    plt.imshow(image.convert('P'))\n",
        "\n",
        "\n",
        "image_path_list = list(images_path.glob(\"*/*/*\"))\n",
        "print_random_image(image_path_list)"
      ],
      "metadata": {
        "colab": {
          "base_uri": "https://localhost:8080/",
          "height": 356
        },
        "id": "0reTEwCDCBoa",
        "outputId": "3141dc7d-91bb-44f4-eccc-9faf65a3f3de"
      },
      "id": "0reTEwCDCBoa",
      "execution_count": 8,
      "outputs": [
        {
          "output_type": "stream",
          "name": "stdout",
          "text": [
            "Random image path: Kaggle/CV/Emotions_detection/emotions_dataset/train/neutral/im3042.png\n",
            "Random image class: neutral\n",
            "Image height: 48\n",
            "Image width: 48\n"
          ]
        },
        {
          "output_type": "display_data",
          "data": {
            "text/plain": [
              "<Figure size 432x288 with 1 Axes>"
            ],
            "image/png": "[encoded data removed]"
          },
          "metadata": {
            "needs_background": "light"
          }
        }
      ]
    },
    {
      "cell_type": "code",
      "source": [
        "# preprocessing steps: \n",
        "# normalize values\n",
        "# convert to grayscale\n",
        "# create augmented data in an imagedatagenerator\n",
        "# \n",
        "# transfer learning perhaps\n",
        "# CNN with last layer being softmax# preprocessing steps: \n",
        "# normalize values\n",
        "# convert to grayscale\n",
        "# create augmented data in an imagedatagenerator\n",
        "# \n",
        "# transfer learning perhaps\n",
        "# CNN with last layer being softmax"
      ],
      "metadata": {
        "id": "PBG_KEALBx04"
      },
      "id": "PBG_KEALBx04",
      "execution_count": 9,
      "outputs": []
    },
    {
      "cell_type": "markdown",
      "source": [
        "# Preprocess Data"
      ],
      "metadata": {
        "id": "NAKFz2ktRScf"
      },
      "id": "NAKFz2ktRScf"
    },
    {
      "cell_type": "code",
      "source": [
        "train_transform = transforms.Compose(\n",
        "    [transforms.Resize(size=(224, 224)),\n",
        "     transforms.ToTensor()]\n",
        ")\n",
        "\n",
        "val_transform = transforms.Compose(\n",
        "    [transforms.Resize(size=(224, 224)),\n",
        "     transforms.ToTensor()]\n",
        ")"
      ],
      "metadata": {
        "id": "2xN7-GohRQzq"
      },
      "id": "2xN7-GohRQzq",
      "execution_count": 10,
      "outputs": []
    },
    {
      "cell_type": "code",
      "source": [
        "def plot_transformed_images(images_path: Path,\n",
        "                            transform: transforms,\n",
        "                            n: int=3,\n",
        "                            seed=None) -> None:\n",
        "    \"\"\"Selects random images from a path, transforms them and plots original vs transform\"\"\"\n",
        "    if seed:\n",
        "        random.seed(seed)\n",
        "\n",
        "    if n > 10:\n",
        "        print(\"n shouldn't be higher than 10 due to the size of displayed plot, changing n to 10\")\n",
        "        n = 10\n",
        "\n",
        "    random_image_paths = random.sample(images_path, k=n)\n",
        "\n",
        "    for image_path in random_image_paths:\n",
        "        with Image.open(image_path).convert('RGB') as f:\n",
        "            fig, ax = plt.subplots(nrows=1, ncols=2)\n",
        "            ax[0].imshow(f)\n",
        "            ax[0].set_title(f\"Original\\nsize: {f.size}\")\n",
        "            ax[0].axis(False)\n",
        "\n",
        "            transformed_image = transform(f).permute(1, 2, 0)\n",
        "            ax[1].imshow(transformed_image)\n",
        "            ax[1].set_title(f\"Transformed\\nshape: {transformed_image.shape}\")\n",
        "            ax[1].axis(False)\n",
        "\n",
        "\n",
        "plot_transformed_images(image_path_list, train_transform)"
      ],
      "metadata": {
        "colab": {
          "base_uri": "https://localhost:8080/",
          "height": 612
        },
        "id": "hLbO7QmXShLL",
        "outputId": "fc1a3edc-f162-4a88-c56b-a19fd86f24c8"
      },
      "id": "hLbO7QmXShLL",
      "execution_count": 11,
      "outputs": [
        {
          "output_type": "display_data",
          "data": {
            "text/plain": [
              "<Figure size 432x288 with 2 Axes>"
            ],
            "image/png": "[encoded data removed]"
          },
          "metadata": {
            "needs_background": "light"
          }
        },
        {
          "output_type": "display_data",
          "data": {
            "text/plain": [
              "<Figure size 432x288 with 2 Axes>"
            ],
            "image/png": "[encoded data removed]"
          },
          "metadata": {
            "needs_background": "light"
          }
        },
        {
          "output_type": "display_data",
          "data": {
            "text/plain": [
              "<Figure size 432x288 with 2 Axes>"
            ],
            "image/png": "[encoded data removed]"
          },
          "metadata": {
            "needs_background": "light"
          }
        }
      ]
    },
    {
      "cell_type": "code",
      "execution_count": 12,
      "id": "1f58a7b1",
      "metadata": {
        "id": "1f58a7b1"
      },
      "outputs": [],
      "source": [
        "train_dir = images_path / \"train\"\n",
        "val_dir = images_path / \"test\"\n",
        "\n",
        "train_data = datasets.ImageFolder(\n",
        "    root=train_dir,\n",
        "    transform=train_transform\n",
        ")\n",
        "\n",
        "val_data = datasets.ImageFolder(\n",
        "    root=val_dir,\n",
        "    transform=val_transform\n",
        ")"
      ]
    },
    {
      "cell_type": "markdown",
      "id": "aa2a5c52",
      "metadata": {
        "id": "aa2a5c52"
      },
      "source": [
        "### Randomly shuffle the train and test images and simultaneously shuffle the respective labels in unison"
      ]
    },
    {
      "cell_type": "code",
      "source": [
        "BATCH_SIZE = 8\n",
        "\n",
        "train_dataloader = DataLoader(\n",
        "    dataset=train_data,\n",
        "    batch_size=BATCH_SIZE,\n",
        "    shuffle=True,\n",
        "    num_workers=4\n",
        ")\n",
        "\n",
        "val_dataloader = DataLoader(\n",
        "    dataset=val_data,\n",
        "    batch_size=BATCH_SIZE,\n",
        "    shuffle=False,\n",
        "    num_workers=4\n",
        ")\n",
        "\n",
        "image_batch, label_batch = next(iter(train_dataloader))\n",
        "image_batch.shape, label_batch.shape"
      ],
      "metadata": {
        "colab": {
          "base_uri": "https://localhost:8080/"
        },
        "id": "Rl39hTloUC7p",
        "outputId": "2bc691ef-ae3e-4cb0-cd62-4e7d158c5bd3"
      },
      "id": "Rl39hTloUC7p",
      "execution_count": 13,
      "outputs": [
        {
          "output_type": "stream",
          "name": "stderr",
          "text": [
            "/usr/local/lib/python3.8/dist-packages/torch/utils/data/dataloader.py:554: UserWarning: This DataLoader will create 4 worker processes in total. Our suggested max number of worker in current system is 2, which is smaller than what this DataLoader is going to create. Please be aware that excessive worker creation might get DataLoader running slow or even freeze, lower the worker number to avoid potential slowness/freeze if necessary.\n",
            "  warnings.warn(_create_warning_msg(\n"
          ]
        },
        {
          "output_type": "execute_result",
          "data": {
            "text/plain": [
              "(torch.Size([8, 3, 224, 224]), torch.Size([8]))"
            ]
          },
          "metadata": {},
          "execution_count": 13
        }
      ]
    },
    {
      "cell_type": "code",
      "execution_count": 14,
      "id": "2eec4579",
      "metadata": {
        "id": "2eec4579",
        "colab": {
          "base_uri": "https://localhost:8080/"
        },
        "outputId": "8fd11e67-c253-489e-b313-7b17bee4135e"
      },
      "outputs": [
        {
          "output_type": "execute_result",
          "data": {
            "text/plain": [
              "============================================================================================================================================\n",
              "Layer (type (var_name))                                      Input Shape          Output Shape         Param #              Trainable\n",
              "============================================================================================================================================\n",
              "EfficientNet (EfficientNet)                                  [32, 3, 224, 224]    [32, 1000]           --                   True\n",
              "├─Sequential (features)                                      [32, 3, 224, 224]    [32, 1280, 7, 7]     --                   True\n",
              "│    └─Conv2dNormActivation (0)                              [32, 3, 224, 224]    [32, 32, 112, 112]   --                   True\n",
              "│    │    └─Conv2d (0)                                       [32, 3, 224, 224]    [32, 32, 112, 112]   864                  True\n",
              "│    │    └─BatchNorm2d (1)                                  [32, 32, 112, 112]   [32, 32, 112, 112]   64                   True\n",
              "│    │    └─SiLU (2)                                         [32, 32, 112, 112]   [32, 32, 112, 112]   --                   --\n",
              "│    └─Sequential (1)                                        [32, 32, 112, 112]   [32, 16, 112, 112]   --                   True\n",
              "│    │    └─MBConv (0)                                       [32, 32, 112, 112]   [32, 16, 112, 112]   1,448                True\n",
              "│    └─Sequential (2)                                        [32, 16, 112, 112]   [32, 24, 56, 56]     --                   True\n",
              "│    │    └─MBConv (0)                                       [32, 16, 112, 112]   [32, 24, 56, 56]     6,004                True\n",
              "│    │    └─MBConv (1)                                       [32, 24, 56, 56]     [32, 24, 56, 56]     10,710               True\n",
              "│    └─Sequential (3)                                        [32, 24, 56, 56]     [32, 40, 28, 28]     --                   True\n",
              "│    │    └─MBConv (0)                                       [32, 24, 56, 56]     [32, 40, 28, 28]     15,350               True\n",
              "│    │    └─MBConv (1)                                       [32, 40, 28, 28]     [32, 40, 28, 28]     31,290               True\n",
              "│    └─Sequential (4)                                        [32, 40, 28, 28]     [32, 80, 14, 14]     --                   True\n",
              "│    │    └─MBConv (0)                                       [32, 40, 28, 28]     [32, 80, 14, 14]     37,130               True\n",
              "│    │    └─MBConv (1)                                       [32, 80, 14, 14]     [32, 80, 14, 14]     102,900              True\n",
              "│    │    └─MBConv (2)                                       [32, 80, 14, 14]     [32, 80, 14, 14]     102,900              True\n",
              "│    └─Sequential (5)                                        [32, 80, 14, 14]     [32, 112, 14, 14]    --                   True\n",
              "│    │    └─MBConv (0)                                       [32, 80, 14, 14]     [32, 112, 14, 14]    126,004              True\n",
              "│    │    └─MBConv (1)                                       [32, 112, 14, 14]    [32, 112, 14, 14]    208,572              True\n",
              "│    │    └─MBConv (2)                                       [32, 112, 14, 14]    [32, 112, 14, 14]    208,572              True\n",
              "│    └─Sequential (6)                                        [32, 112, 14, 14]    [32, 192, 7, 7]      --                   True\n",
              "│    │    └─MBConv (0)                                       [32, 112, 14, 14]    [32, 192, 7, 7]      262,492              True\n",
              "│    │    └─MBConv (1)                                       [32, 192, 7, 7]      [32, 192, 7, 7]      587,952              True\n",
              "│    │    └─MBConv (2)                                       [32, 192, 7, 7]      [32, 192, 7, 7]      587,952              True\n",
              "│    │    └─MBConv (3)                                       [32, 192, 7, 7]      [32, 192, 7, 7]      587,952              True\n",
              "│    └─Sequential (7)                                        [32, 192, 7, 7]      [32, 320, 7, 7]      --                   True\n",
              "│    │    └─MBConv (0)                                       [32, 192, 7, 7]      [32, 320, 7, 7]      717,232              True\n",
              "│    └─Conv2dNormActivation (8)                              [32, 320, 7, 7]      [32, 1280, 7, 7]     --                   True\n",
              "│    │    └─Conv2d (0)                                       [32, 320, 7, 7]      [32, 1280, 7, 7]     409,600              True\n",
              "│    │    └─BatchNorm2d (1)                                  [32, 1280, 7, 7]     [32, 1280, 7, 7]     2,560                True\n",
              "│    │    └─SiLU (2)                                         [32, 1280, 7, 7]     [32, 1280, 7, 7]     --                   --\n",
              "├─AdaptiveAvgPool2d (avgpool)                                [32, 1280, 7, 7]     [32, 1280, 1, 1]     --                   --\n",
              "├─Sequential (classifier)                                    [32, 1280]           [32, 1000]           --                   True\n",
              "│    └─Dropout (0)                                           [32, 1280]           [32, 1280]           --                   --\n",
              "│    └─Linear (1)                                            [32, 1280]           [32, 1000]           1,281,000            True\n",
              "============================================================================================================================================\n",
              "Total params: 5,288,548\n",
              "Trainable params: 5,288,548\n",
              "Non-trainable params: 0\n",
              "Total mult-adds (G): 12.35\n",
              "============================================================================================================================================\n",
              "Input size (MB): 19.27\n",
              "Forward/backward pass size (MB): 3452.35\n",
              "Params size (MB): 21.15\n",
              "Estimated Total Size (MB): 3492.77\n",
              "============================================================================================================================================"
            ]
          },
          "metadata": {},
          "execution_count": 14
        }
      ],
      "source": [
        "device = \"cuda\" if torch.cuda.is_available() else \"cpu\"\n",
        "model = torchvision.models.efficientnet_b0().to(device)\n",
        "\n",
        "# Print a summary using torchinfo (uncomment for actual output)\n",
        "summary(model=model, \n",
        "        input_size=(32, 3, 224, 224),\n",
        "        col_names=[\"input_size\", \"output_size\", \"num_params\", \"trainable\"],\n",
        "        col_width=20,\n",
        "        row_settings=[\"var_names\"]\n",
        ")"
      ]
    },
    {
      "cell_type": "code",
      "execution_count": 15,
      "id": "bbb0b9ce",
      "metadata": {
        "id": "bbb0b9ce",
        "colab": {
          "base_uri": "https://localhost:8080/"
        },
        "outputId": "82070fe5-8634-4ed1-f955-cef0596aed25"
      },
      "outputs": [
        {
          "output_type": "execute_result",
          "data": {
            "text/plain": [
              "============================================================================================================================================\n",
              "Layer (type (var_name))                                      Input Shape          Output Shape         Param #              Trainable\n",
              "============================================================================================================================================\n",
              "EfficientNet (EfficientNet)                                  [8, 3, 224, 224]     [8, 7]               --                   True\n",
              "├─Sequential (features)                                      [8, 3, 224, 224]     [8, 1280, 7, 7]      --                   True\n",
              "│    └─Conv2dNormActivation (0)                              [8, 3, 224, 224]     [8, 32, 112, 112]    --                   True\n",
              "│    │    └─Conv2d (0)                                       [8, 3, 224, 224]     [8, 32, 112, 112]    864                  True\n",
              "│    │    └─BatchNorm2d (1)                                  [8, 32, 112, 112]    [8, 32, 112, 112]    64                   True\n",
              "│    │    └─SiLU (2)                                         [8, 32, 112, 112]    [8, 32, 112, 112]    --                   --\n",
              "│    └─Sequential (1)                                        [8, 32, 112, 112]    [8, 16, 112, 112]    --                   True\n",
              "│    │    └─MBConv (0)                                       [8, 32, 112, 112]    [8, 16, 112, 112]    1,448                True\n",
              "│    └─Sequential (2)                                        [8, 16, 112, 112]    [8, 24, 56, 56]      --                   True\n",
              "│    │    └─MBConv (0)                                       [8, 16, 112, 112]    [8, 24, 56, 56]      6,004                True\n",
              "│    │    └─MBConv (1)                                       [8, 24, 56, 56]      [8, 24, 56, 56]      10,710               True\n",
              "│    └─Sequential (3)                                        [8, 24, 56, 56]      [8, 40, 28, 28]      --                   True\n",
              "│    │    └─MBConv (0)                                       [8, 24, 56, 56]      [8, 40, 28, 28]      15,350               True\n",
              "│    │    └─MBConv (1)                                       [8, 40, 28, 28]      [8, 40, 28, 28]      31,290               True\n",
              "│    └─Sequential (4)                                        [8, 40, 28, 28]      [8, 80, 14, 14]      --                   True\n",
              "│    │    └─MBConv (0)                                       [8, 40, 28, 28]      [8, 80, 14, 14]      37,130               True\n",
              "│    │    └─MBConv (1)                                       [8, 80, 14, 14]      [8, 80, 14, 14]      102,900              True\n",
              "│    │    └─MBConv (2)                                       [8, 80, 14, 14]      [8, 80, 14, 14]      102,900              True\n",
              "│    └─Sequential (5)                                        [8, 80, 14, 14]      [8, 112, 14, 14]     --                   True\n",
              "│    │    └─MBConv (0)                                       [8, 80, 14, 14]      [8, 112, 14, 14]     126,004              True\n",
              "│    │    └─MBConv (1)                                       [8, 112, 14, 14]     [8, 112, 14, 14]     208,572              True\n",
              "│    │    └─MBConv (2)                                       [8, 112, 14, 14]     [8, 112, 14, 14]     208,572              True\n",
              "│    └─Sequential (6)                                        [8, 112, 14, 14]     [8, 192, 7, 7]       --                   True\n",
              "│    │    └─MBConv (0)                                       [8, 112, 14, 14]     [8, 192, 7, 7]       262,492              True\n",
              "│    │    └─MBConv (1)                                       [8, 192, 7, 7]       [8, 192, 7, 7]       587,952              True\n",
              "│    │    └─MBConv (2)                                       [8, 192, 7, 7]       [8, 192, 7, 7]       587,952              True\n",
              "│    │    └─MBConv (3)                                       [8, 192, 7, 7]       [8, 192, 7, 7]       587,952              True\n",
              "│    └─Sequential (7)                                        [8, 192, 7, 7]       [8, 320, 7, 7]       --                   True\n",
              "│    │    └─MBConv (0)                                       [8, 192, 7, 7]       [8, 320, 7, 7]       717,232              True\n",
              "│    └─Conv2dNormActivation (8)                              [8, 320, 7, 7]       [8, 1280, 7, 7]      --                   True\n",
              "│    │    └─Conv2d (0)                                       [8, 320, 7, 7]       [8, 1280, 7, 7]      409,600              True\n",
              "│    │    └─BatchNorm2d (1)                                  [8, 1280, 7, 7]      [8, 1280, 7, 7]      2,560                True\n",
              "│    │    └─SiLU (2)                                         [8, 1280, 7, 7]      [8, 1280, 7, 7]      --                   --\n",
              "├─AdaptiveAvgPool2d (avgpool)                                [8, 1280, 7, 7]      [8, 1280, 1, 1]      --                   --\n",
              "├─Sequential (classifier)                                    [8, 1280]            [8, 7]               --                   True\n",
              "│    └─Dropout (0)                                           [8, 1280]            [8, 1280]            --                   --\n",
              "│    └─Linear (1)                                            [8, 1280]            [8, 7]               8,967                True\n",
              "============================================================================================================================================\n",
              "Total params: 4,016,515\n",
              "Trainable params: 4,016,515\n",
              "Non-trainable params: 0\n",
              "Total mult-adds (G): 3.08\n",
              "============================================================================================================================================\n",
              "Input size (MB): 4.82\n",
              "Forward/backward pass size (MB): 863.02\n",
              "Params size (MB): 16.07\n",
              "Estimated Total Size (MB): 883.91\n",
              "============================================================================================================================================"
            ]
          },
          "metadata": {},
          "execution_count": 15
        }
      ],
      "source": [
        "output_shape = len(train_data.classes)\n",
        "\n",
        "model.classifier = torch.nn.Sequential(\n",
        "    torch.nn.Dropout(p=0.2, inplace=True), \n",
        "    torch.nn.Linear(in_features=1280, \n",
        "                    out_features=output_shape, # same number of output units as our number of classes\n",
        "                    bias=True)).to(device)\n",
        "\n",
        "summary(\n",
        "    model=model,\n",
        "    input_size=(BATCH_SIZE, 3, 224, 224),\n",
        "    col_names=[\"input_size\", \"output_size\", \"num_params\", \"trainable\"],\n",
        "    col_width=20,\n",
        "    row_settings=[\"var_names\"]\n",
        ")\n"
      ]
    },
    {
      "cell_type": "code",
      "execution_count": 16,
      "id": "de968d85",
      "metadata": {
        "id": "de968d85"
      },
      "outputs": [],
      "source": [
        "def train_step(\n",
        "    model: torch.nn.Module,\n",
        "    dataloader: torch.utils.data.DataLoader,\n",
        "    loss_fn: torch.nn.Module,\n",
        "    optimizer: torch.optim.Optimizer,\n",
        "    device: torch.device) -> Tuple[float, float]:\n",
        "\n",
        "    model.train()\n",
        "    train_loss, train_acc = 0, 0\n",
        "\n",
        "    for batch, (X, y) in enumerate(dataloader):\n",
        "        X, y = X.to(device), y.to(device)\n",
        "        y_pred = model(X)\n",
        "        loss = loss_fn(y_pred, y)\n",
        "        train_loss += loss.item()\n",
        "\n",
        "        optimizer.zero_grad()\n",
        "\n",
        "        loss.backward()\n",
        "\n",
        "        optimizer.step()\n",
        "\n",
        "        y_pred_class = torch.argmax(y_pred, dim=1)\n",
        "        train_acc += (y_pred_class == y).sum().item() / len(y_pred)\n",
        "\n",
        "    train_loss = train_loss / len(dataloader)\n",
        "    train_acc = train_acc / len(dataloader)\n",
        "\n",
        "    return train_loss, train_acc\n",
        "\n",
        "\n",
        "def val_step(\n",
        "    model: torch.nn.Module,\n",
        "    dataloader: torch.utils.data.DataLoader,\n",
        "    loss_fn: torch.nn.Module,\n",
        "    device: torch.device) -> Tuple[float, float, torch.Tensor]:\n",
        "\n",
        "    model.eval()\n",
        "    val_loss, val_acc = 0, 0\n",
        "    y_preds = []\n",
        "\n",
        "    with torch.inference_mode():\n",
        "        for batch, (X, y) in enumerate(dataloader):\n",
        "            X, y = X.to(device), y.to(device)\n",
        "            val_pred_logits = model(X)\n",
        "            loss = loss_fn(val_pred_logits, y)\n",
        "            val_loss += loss.item()\n",
        "\n",
        "            val_pred_labels = torch.argmax(val_pred_logits, dim=1)\n",
        "            val_acc += ((val_pred_labels == y).sum().item() / len(val_pred_labels))\n",
        "            y_preds.append(val_pred_labels.cpu())\n",
        "\n",
        "    val_loss = val_loss / len(dataloader)\n",
        "    val_acc = val_acc / len(dataloader)\n",
        "\n",
        "    y_pred_tensor = torch.cat(y_preds)\n",
        "\n",
        "    return val_loss, val_acc, y_pred_tensor\n",
        "\n",
        "\n",
        "def train(\n",
        "    model: torch.nn.Module,\n",
        "    train_dataloader: torch.utils.data.DataLoader,\n",
        "    val_dataloader: torch.utils.data.DataLoader,\n",
        "    optimizer: torch.optim.Optimizer,\n",
        "    loss_fn: torch.nn.Module,\n",
        "    epochs: int,\n",
        "    device: torch.device) -> Tuple[Dict, torch.Tensor]:\n",
        "\n",
        "    results = {\"train_loss\": [],\n",
        "             \"train_acc\": [],\n",
        "             \"val_loss\": [],\n",
        "             \"val_acc\": []}\n",
        "\n",
        "    for epoch in tqdm(range(epochs)):\n",
        "        train_loss, train_acc = train_step(\n",
        "            model=model,\n",
        "            dataloader=train_dataloader,\n",
        "            loss_fn=loss_fn,\n",
        "            optimizer=optimizer,\n",
        "            device=device\n",
        "        )\n",
        "\n",
        "        val_loss, val_acc, y_preds = val_step(\n",
        "            model=model,\n",
        "            dataloader=val_dataloader,\n",
        "            loss_fn=loss_fn,\n",
        "            device=device\n",
        "        )\n",
        "\n",
        "        print(f\"Epoch: {epoch}, Train loss: {train_loss:.3f}, Train acc: {train_acc:.3f}, Val loss: {val_loss:.3f}, Val acc: {val_acc:.3f}\")\n",
        "\n",
        "        results[\"train_loss\"].append(train_loss)\n",
        "        results[\"train_acc\"].append(train_acc)\n",
        "        results[\"val_loss\"].append(val_loss)\n",
        "        results[\"val_acc\"].append(val_acc)\n",
        "\n",
        "    return results, y_preds"
      ]
    },
    {
      "cell_type": "code",
      "execution_count": null,
      "id": "e6f89c75",
      "metadata": {
        "id": "e6f89c75",
        "colab": {
          "base_uri": "https://localhost:8080/",
          "height": 50,
          "referenced_widgets": [
            "ff409ca4fc5447cd95ff99ea231fd38b",
            "ecec8d5bad924bc082069aa422775a66",
            "54bea51076494463b82f3766d6cef67c",
            "b91196ffcec4498d9a1b418987f9ccac",
            "1f1cf00e2ce84b4986be1651b9ee7787",
            "308134b14db440bea5ca5117dfccea14",
            "95d2252e76af4be29f2e93c5d3840e20",
            "7a96c9ae5047488ba9180c5022ac4722",
            "100f5c2100f746158ea2a5d36bc21efe",
            "cdb4cd75fc374aa19431d8610e9ace99",
            "907b5959320c49bc8ce6448c5c02de6c"
          ]
        },
        "outputId": "6a9b460f-7643-439b-cc3a-7ea41fcce962"
      },
      "outputs": [
        {
          "output_type": "display_data",
          "data": {
            "text/plain": [
              "  0%|          | 0/10 [00:00<?, ?it/s]"
            ],
            "application/vnd.jupyter.widget-view+json": {
              "version_major": 2,
              "version_minor": 0,
              "model_id": "ff409ca4fc5447cd95ff99ea231fd38b"
            }
          },
          "metadata": {}
        }
      ],
      "source": [
        "torch.cuda.manual_seed(42)\n",
        "torch.manual_seed(42)\n",
        "\n",
        "EPOCHS = 10\n",
        "\n",
        "loss_fn = nn.CrossEntropyLoss()\n",
        "\n",
        "optimizer = torch.optim.SGD(\n",
        "    params=model.parameters(),\n",
        "    lr=0.01\n",
        ")\n",
        "\n",
        "start_time = timer()\n",
        "\n",
        "model_results, preds = train(\n",
        "    model=model,\n",
        "    train_dataloader=train_dataloader,\n",
        "    val_dataloader=val_dataloader,\n",
        "    optimizer=optimizer,\n",
        "    loss_fn=loss_fn,\n",
        "    epochs=EPOCHS,\n",
        "    device=device\n",
        ")\n",
        "\n",
        "end_time = timer()\n",
        "print(f\"Total learning time: {(end_time - start_time):.3f}\")"
      ]
    },
    {
      "cell_type": "code",
      "execution_count": null,
      "id": "8733f948",
      "metadata": {
        "id": "8733f948"
      },
      "outputs": [],
      "source": [
        "def plot_curves(results: Dict[str, List[float]]) -> None:\n",
        "    \"\"\"Plots loss and accuracy from a results dictionary.\"\"\"\n",
        "\n",
        "    train_loss = results[\"train_loss\"]\n",
        "    val_loss = results[\"val_loss\"]\n",
        "\n",
        "    train_accuracy = results[\"train_acc\"]\n",
        "    val_accuracy = results[\"val_acc\"]\n",
        "\n",
        "    epochs = range(len(results[\"train_loss\"]))\n",
        "\n",
        "    plt.figure(figsize=(15, 7))\n",
        "    plt.subplot(1, 2, 1)\n",
        "    plt.plot(epochs, train_loss, label=\"train_loss\")\n",
        "    plt.plot(epochs, val_loss, label=\"val_loss\")\n",
        "    plt.title(\"Loss\")\n",
        "    plt.xlabel(\"Epochs\")\n",
        "    plt.legend()\n",
        "\n",
        "    plt.subplot(1, 2, 2)\n",
        "    plt.plot(epochs, train_accuracy, label=\"train_accuracy\")\n",
        "    plt.plot(epochs, val_accuracy, label=\"val_accuracy\")\n",
        "    plt.title(\"Accuracy\")\n",
        "    plt.xlabel(\"Epochs\")\n",
        "    plt.legend()\n",
        "\n",
        "\n",
        "plot_curves(model_results)"
      ]
    },
    {
      "cell_type": "code",
      "execution_count": null,
      "id": "9387241e",
      "metadata": {
        "id": "9387241e"
      },
      "outputs": [],
      "source": [
        "def make_predictions(model: torch.nn.Module,\n",
        "                     data: list,\n",
        "                     device: torch.device) -> torch.Tensor:\n",
        "\n",
        "    pred_probs = []\n",
        "    model.eval()\n",
        "\n",
        "    with torch.inference_mode():\n",
        "        for sample in data:\n",
        "            sample = torch.unsqueeze(sample, dim=0).to(device)\n",
        "            pred_logit = model(sample)\n",
        "            pred_prob = torch.softmax(pred_logit.squeeze(), dim=0)\n",
        "            pred_probs.append(pred_prob.cpu())\n",
        "\n",
        "    return torch.stack(pred_probs)\n",
        "\n",
        "\n",
        "def show_predictions(model: torch.nn.Module,\n",
        "                     device: torch.device,\n",
        "                     val_data: datasets) -> None:\n",
        "\n",
        "    val_samples = []\n",
        "    val_labels = []\n",
        "\n",
        "    for sample, label in random.sample(list(val_data), k=9):\n",
        "        val_samples.append(sample)\n",
        "        val_labels.append(label)\n",
        "\n",
        "    pred_probs = make_predictions(\n",
        "        model=model,\n",
        "        data=val_samples,\n",
        "        device=device\n",
        "    )\n",
        "\n",
        "    pred_classes = pred_probs.argmax(dim=1)\n",
        "    plt.figure(figsize=(9, 9))\n",
        "    nrows = 3\n",
        "    ncols = 3\n",
        "\n",
        "    for i, sample in enumerate(val_samples):\n",
        "        plt.subplot(nrows, ncols, i+1)\n",
        "        image = sample.squeeze().permute(1, 2, 0)\n",
        "        plt.imshow(image)\n",
        "        pred_label = val_data.classes[pred_classes[i]]\n",
        "        truth_label = val_data.classes[val_labels[i]]\n",
        "        title_text = f\"Pred: {pred_label} | Truth: {truth_label}\"\n",
        "\n",
        "        if pred_label == truth_label:\n",
        "            plt.title(title_text, fontsize=10, c=\"g\")\n",
        "        else:\n",
        "            plt.title(title_text, fontsize=10, c=\"r\")\n",
        "        plt.axis(False)"
      ]
    },
    {
      "cell_type": "code",
      "source": [
        "\n",
        "show_predictions(\n",
        "    model=model,\n",
        "    val_data=val_data,\n",
        "    device=device)"
      ],
      "metadata": {
        "id": "rSBuqJviL1-j"
      },
      "id": "rSBuqJviL1-j",
      "execution_count": null,
      "outputs": []
    },
    {
      "cell_type": "markdown",
      "source": [
        "# References\n",
        "\n",
        "* https://www.kaggle.com/datasets/ananthu017/emotion-detection-fer\n",
        "\n",
        "* https://debuggercafe.com/pytorch-pretrained-efficientnet-model-image-classification/\n",
        "\n",
        "* https://www.learnpytorch.io/05_pytorch_going_modular/\n",
        "\n",
        "* https://github.com/mrdbourke/pytorch-deep-learning/blob/main/03_pytorch_computer_vision.ipynb\n",
        "\n",
        "* https://www.kaggle.com/code/saworz/animals-classification-pretrained-vgg16-val94-5\n",
        "\n",
        "* https://pytorch.org/vision/main/models/generated/torchvision.models.efficientnet_b0.html\n",
        "\n",
        "* To run on your local device: https://research.google.com/colaboratory/local-runtimes.html\n"
      ],
      "metadata": {
        "id": "QZP1-WvjQ9o4"
      },
      "id": "QZP1-WvjQ9o4"
    }
  ],
  "metadata": {
    "kernelspec": {
      "display_name": "Python 3 (ipykernel)",
      "language": "python",
      "name": "python3"
    },
    "language_info": {
      "codemirror_mode": {
        "name": "ipython",
        "version": 3
      },
      "file_extension": ".py",
      "mimetype": "text/x-python",
      "name": "python",
      "nbconvert_exporter": "python",
      "pygments_lexer": "ipython3",
      "version": "3.9.12"
    },
    "colab": {
      "provenance": []
    },
    "accelerator": "GPU",
    "gpuClass": "premium",
    "widgets": {
      "application/vnd.jupyter.widget-state+json": {
        "ff409ca4fc5447cd95ff99ea231fd38b": {
          "model_module": "@jupyter-widgets/controls",
          "model_name": "HBoxModel",
          "model_module_version": "1.5.0",
          "state": {
            "_dom_classes": [],
            "_model_module": "@jupyter-widgets/controls",
            "_model_module_version": "1.5.0",
            "_model_name": "HBoxModel",
            "_view_count": null,
            "_view_module": "@jupyter-widgets/controls",
            "_view_module_version": "1.5.0",
            "_view_name": "HBoxView",
            "box_style": "",
            "children": [
              "IPY_MODEL_ecec8d5bad924bc082069aa422775a66",
              "IPY_MODEL_54bea51076494463b82f3766d6cef67c",
              "IPY_MODEL_b91196ffcec4498d9a1b418987f9ccac"
            ],
            "layout": "IPY_MODEL_1f1cf00e2ce84b4986be1651b9ee7787"
          }
        },
        "ecec8d5bad924bc082069aa422775a66": {
          "model_module": "@jupyter-widgets/controls",
          "model_name": "HTMLModel",
          "model_module_version": "1.5.0",
          "state": {
            "_dom_classes": [],
            "_model_module": "@jupyter-widgets/controls",
            "_model_module_version": "1.5.0",
            "_model_name": "HTMLModel",
            "_view_count": null,
            "_view_module": "@jupyter-widgets/controls",
            "_view_module_version": "1.5.0",
            "_view_name": "HTMLView",
            "description": "",
            "description_tooltip": null,
            "layout": "IPY_MODEL_308134b14db440bea5ca5117dfccea14",
            "placeholder": "​",
            "style": "IPY_MODEL_95d2252e76af4be29f2e93c5d3840e20",
            "value": "  0%"
          }
        },
        "54bea51076494463b82f3766d6cef67c": {
          "model_module": "@jupyter-widgets/controls",
          "model_name": "FloatProgressModel",
          "model_module_version": "1.5.0",
          "state": {
            "_dom_classes": [],
            "_model_module": "@jupyter-widgets/controls",
            "_model_module_version": "1.5.0",
            "_model_name": "FloatProgressModel",
            "_view_count": null,
            "_view_module": "@jupyter-widgets/controls",
            "_view_module_version": "1.5.0",
            "_view_name": "ProgressView",
            "bar_style": "",
            "description": "",
            "description_tooltip": null,
            "layout": "IPY_MODEL_7a96c9ae5047488ba9180c5022ac4722",
            "max": 10,
            "min": 0,
            "orientation": "horizontal",
            "style": "IPY_MODEL_100f5c2100f746158ea2a5d36bc21efe",
            "value": 0
          }
        },
        "b91196ffcec4498d9a1b418987f9ccac": {
          "model_module": "@jupyter-widgets/controls",
          "model_name": "HTMLModel",
          "model_module_version": "1.5.0",
          "state": {
            "_dom_classes": [],
            "_model_module": "@jupyter-widgets/controls",
            "_model_module_version": "1.5.0",
            "_model_name": "HTMLModel",
            "_view_count": null,
            "_view_module": "@jupyter-widgets/controls",
            "_view_module_version": "1.5.0",
            "_view_name": "HTMLView",
            "description": "",
            "description_tooltip": null,
            "layout": "IPY_MODEL_cdb4cd75fc374aa19431d8610e9ace99",
            "placeholder": "​",
            "style": "IPY_MODEL_907b5959320c49bc8ce6448c5c02de6c",
            "value": " 0/10 [00:00&lt;?, ?it/s]"
          }
        },
        "1f1cf00e2ce84b4986be1651b9ee7787": {
          "model_module": "@jupyter-widgets/base",
          "model_name": "LayoutModel",
          "model_module_version": "1.2.0",
          "state": {
            "_model_module": "@jupyter-widgets/base",
            "_model_module_version": "1.2.0",
            "_model_name": "LayoutModel",
            "_view_count": null,
            "_view_module": "@jupyter-widgets/base",
            "_view_module_version": "1.2.0",
            "_view_name": "LayoutView",
            "align_content": null,
            "align_items": null,
            "align_self": null,
            "border": null,
            "bottom": null,
            "display": null,
            "flex": null,
            "flex_flow": null,
            "grid_area": null,
            "grid_auto_columns": null,
            "grid_auto_flow": null,
            "grid_auto_rows": null,
            "grid_column": null,
            "grid_gap": null,
            "grid_row": null,
            "grid_template_areas": null,
            "grid_template_columns": null,
            "grid_template_rows": null,
            "height": null,
            "justify_content": null,
            "justify_items": null,
            "left": null,
            "margin": null,
            "max_height": null,
            "max_width": null,
            "min_height": null,
            "min_width": null,
            "object_fit": null,
            "object_position": null,
            "order": null,
            "overflow": null,
            "overflow_x": null,
            "overflow_y": null,
            "padding": null,
            "right": null,
            "top": null,
            "visibility": null,
            "width": null
          }
        },
        "308134b14db440bea5ca5117dfccea14": {
          "model_module": "@jupyter-widgets/base",
          "model_name": "LayoutModel",
          "model_module_version": "1.2.0",
          "state": {
            "_model_module": "@jupyter-widgets/base",
            "_model_module_version": "1.2.0",
            "_model_name": "LayoutModel",
            "_view_count": null,
            "_view_module": "@jupyter-widgets/base",
            "_view_module_version": "1.2.0",
            "_view_name": "LayoutView",
            "align_content": null,
            "align_items": null,
            "align_self": null,
            "border": null,
            "bottom": null,
            "display": null,
            "flex": null,
            "flex_flow": null,
            "grid_area": null,
            "grid_auto_columns": null,
            "grid_auto_flow": null,
            "grid_auto_rows": null,
            "grid_column": null,
            "grid_gap": null,
            "grid_row": null,
            "grid_template_areas": null,
            "grid_template_columns": null,
            "grid_template_rows": null,
            "height": null,
            "justify_content": null,
            "justify_items": null,
            "left": null,
            "margin": null,
            "max_height": null,
            "max_width": null,
            "min_height": null,
            "min_width": null,
            "object_fit": null,
            "object_position": null,
            "order": null,
            "overflow": null,
            "overflow_x": null,
            "overflow_y": null,
            "padding": null,
            "right": null,
            "top": null,
            "visibility": null,
            "width": null
          }
        },
        "95d2252e76af4be29f2e93c5d3840e20": {
          "model_module": "@jupyter-widgets/controls",
          "model_name": "DescriptionStyleModel",
          "model_module_version": "1.5.0",
          "state": {
            "_model_module": "@jupyter-widgets/controls",
            "_model_module_version": "1.5.0",
            "_model_name": "DescriptionStyleModel",
            "_view_count": null,
            "_view_module": "@jupyter-widgets/base",
            "_view_module_version": "1.2.0",
            "_view_name": "StyleView",
            "description_width": ""
          }
        },
        "7a96c9ae5047488ba9180c5022ac4722": {
          "model_module": "@jupyter-widgets/base",
          "model_name": "LayoutModel",
          "model_module_version": "1.2.0",
          "state": {
            "_model_module": "@jupyter-widgets/base",
            "_model_module_version": "1.2.0",
            "_model_name": "LayoutModel",
            "_view_count": null,
            "_view_module": "@jupyter-widgets/base",
            "_view_module_version": "1.2.0",
            "_view_name": "LayoutView",
            "align_content": null,
            "align_items": null,
            "align_self": null,
            "border": null,
            "bottom": null,
            "display": null,
            "flex": null,
            "flex_flow": null,
            "grid_area": null,
            "grid_auto_columns": null,
            "grid_auto_flow": null,
            "grid_auto_rows": null,
            "grid_column": null,
            "grid_gap": null,
            "grid_row": null,
            "grid_template_areas": null,
            "grid_template_columns": null,
            "grid_template_rows": null,
            "height": null,
            "justify_content": null,
            "justify_items": null,
            "left": null,
            "margin": null,
            "max_height": null,
            "max_width": null,
            "min_height": null,
            "min_width": null,
            "object_fit": null,
            "object_position": null,
            "order": null,
            "overflow": null,
            "overflow_x": null,
            "overflow_y": null,
            "padding": null,
            "right": null,
            "top": null,
            "visibility": null,
            "width": null
          }
        },
        "100f5c2100f746158ea2a5d36bc21efe": {
          "model_module": "@jupyter-widgets/controls",
          "model_name": "ProgressStyleModel",
          "model_module_version": "1.5.0",
          "state": {
            "_model_module": "@jupyter-widgets/controls",
            "_model_module_version": "1.5.0",
            "_model_name": "ProgressStyleModel",
            "_view_count": null,
            "_view_module": "@jupyter-widgets/base",
            "_view_module_version": "1.2.0",
            "_view_name": "StyleView",
            "bar_color": null,
            "description_width": ""
          }
        },
        "cdb4cd75fc374aa19431d8610e9ace99": {
          "model_module": "@jupyter-widgets/base",
          "model_name": "LayoutModel",
          "model_module_version": "1.2.0",
          "state": {
            "_model_module": "@jupyter-widgets/base",
            "_model_module_version": "1.2.0",
            "_model_name": "LayoutModel",
            "_view_count": null,
            "_view_module": "@jupyter-widgets/base",
            "_view_module_version": "1.2.0",
            "_view_name": "LayoutView",
            "align_content": null,
            "align_items": null,
            "align_self": null,
            "border": null,
            "bottom": null,
            "display": null,
            "flex": null,
            "flex_flow": null,
            "grid_area": null,
            "grid_auto_columns": null,
            "grid_auto_flow": null,
            "grid_auto_rows": null,
            "grid_column": null,
            "grid_gap": null,
            "grid_row": null,
            "grid_template_areas": null,
            "grid_template_columns": null,
            "grid_template_rows": null,
            "height": null,
            "justify_content": null,
            "justify_items": null,
            "left": null,
            "margin": null,
            "max_height": null,
            "max_width": null,
            "min_height": null,
            "min_width": null,
            "object_fit": null,
            "object_position": null,
            "order": null,
            "overflow": null,
            "overflow_x": null,
            "overflow_y": null,
            "padding": null,
            "right": null,
            "top": null,
            "visibility": null,
            "width": null
          }
        },
        "907b5959320c49bc8ce6448c5c02de6c": {
          "model_module": "@jupyter-widgets/controls",
          "model_name": "DescriptionStyleModel",
          "model_module_version": "1.5.0",
          "state": {
            "_model_module": "@jupyter-widgets/controls",
            "_model_module_version": "1.5.0",
            "_model_name": "DescriptionStyleModel",
            "_view_count": null,
            "_view_module": "@jupyter-widgets/base",
            "_view_module_version": "1.2.0",
            "_view_name": "StyleView",
            "description_width": ""
          }
        }
      }
    }
  },
  "nbformat": 4,
  "nbformat_minor": 5
}
